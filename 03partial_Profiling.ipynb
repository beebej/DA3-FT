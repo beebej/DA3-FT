{
 "cells": [
  {
   "cell_type": "code",
   "execution_count": 1,
   "id": "a3ea4472-df1a-4cf3-b7c5-53ef3e6ce96e",
   "metadata": {
    "slideshow": {
     "slide_type": "slide"
    },
    "tags": []
   },
   "outputs": [],
   "source": [
    "#Run the following code to print multiple outputs from a cell\n",
    "get_ipython().ast_node_interactivity = 'all'"
   ]
  },
  {
   "cell_type": "markdown",
   "id": "5928375c-e0d3-43ac-8f37-3bca2d1d9200",
   "metadata": {},
   "source": [
    "# Profiling\n",
    "\n",
    "The data for today comes from the FAA's Wildlife Strike Database (https://wildlife.faa.gov/home). The purpose of this database is to study the frequency of wildlife strikes causing damage to aircraft, as well as to track both injuries and fatalities caused by such strikes.\n",
    "\n",
    "## Import Data and Initial Checks\n",
    "Import the file, \"StrikeReportsPartial.csv\", and save it in a variable called `df`. Then, do some initial checks of the data based on what we covered last class. What can you say about the data?"
   ]
  },
  {
   "cell_type": "code",
   "execution_count": 2,
   "id": "02b97b39-39ed-45d7-82c9-c1e40924a513",
   "metadata": {},
   "outputs": [
    {
     "data": {
      "text/html": [
       "<div>\n",
       "<style scoped>\n",
       "    .dataframe tbody tr th:only-of-type {\n",
       "        vertical-align: middle;\n",
       "    }\n",
       "\n",
       "    .dataframe tbody tr th {\n",
       "        vertical-align: top;\n",
       "    }\n",
       "\n",
       "    .dataframe thead th {\n",
       "        text-align: right;\n",
       "    }\n",
       "</style>\n",
       "<table border=\"1\" class=\"dataframe\">\n",
       "  <thead>\n",
       "    <tr style=\"text-align: right;\">\n",
       "      <th></th>\n",
       "      <th>INDEX_NR</th>\n",
       "      <th>OPID</th>\n",
       "      <th>ATYPE</th>\n",
       "      <th>AC_MASS</th>\n",
       "      <th>INCIDENT_DATE</th>\n",
       "      <th>TIME_OF_DAY</th>\n",
       "      <th>AIRPORT_ID</th>\n",
       "      <th>SPEED</th>\n",
       "      <th>DISTANCE</th>\n",
       "      <th>PHASE_OF_FLT</th>\n",
       "      <th>DAMAGE</th>\n",
       "      <th>SKY</th>\n",
       "      <th>PRECIP</th>\n",
       "      <th>NR_INJURIES</th>\n",
       "      <th>NR_FATALITIES</th>\n",
       "      <th>NR_INJURIES_0</th>\n",
       "      <th>NR_FATALITIES_0</th>\n",
       "    </tr>\n",
       "  </thead>\n",
       "  <tbody>\n",
       "    <tr>\n",
       "      <th>0</th>\n",
       "      <td>260720</td>\n",
       "      <td>PHM</td>\n",
       "      <td>SIKORSKY S-76</td>\n",
       "      <td>2.0</td>\n",
       "      <td>2009-01-04</td>\n",
       "      <td>Day</td>\n",
       "      <td>UNKN</td>\n",
       "      <td>135.0</td>\n",
       "      <td>NaN</td>\n",
       "      <td>En Route</td>\n",
       "      <td>D</td>\n",
       "      <td>Some Cloud</td>\n",
       "      <td>NaN</td>\n",
       "      <td>1.0</td>\n",
       "      <td>8.0</td>\n",
       "      <td>1</td>\n",
       "      <td>8</td>\n",
       "    </tr>\n",
       "    <tr>\n",
       "      <th>1</th>\n",
       "      <td>260583</td>\n",
       "      <td>BUS</td>\n",
       "      <td>CITATION</td>\n",
       "      <td>2.0</td>\n",
       "      <td>2008-03-04</td>\n",
       "      <td>Day</td>\n",
       "      <td>KPWA</td>\n",
       "      <td>NaN</td>\n",
       "      <td>4.0</td>\n",
       "      <td>Climb</td>\n",
       "      <td>D</td>\n",
       "      <td>No Cloud</td>\n",
       "      <td>NaN</td>\n",
       "      <td>NaN</td>\n",
       "      <td>5.0</td>\n",
       "      <td>0</td>\n",
       "      <td>5</td>\n",
       "    </tr>\n",
       "    <tr>\n",
       "      <th>2</th>\n",
       "      <td>128423</td>\n",
       "      <td>PVT</td>\n",
       "      <td>PA-23 APACHE</td>\n",
       "      <td>1.0</td>\n",
       "      <td>1998-03-04</td>\n",
       "      <td>Day</td>\n",
       "      <td>UNKN</td>\n",
       "      <td>146.0</td>\n",
       "      <td>NaN</td>\n",
       "      <td>En Route</td>\n",
       "      <td>D</td>\n",
       "      <td>No Cloud</td>\n",
       "      <td>NaN</td>\n",
       "      <td>NaN</td>\n",
       "      <td>2.0</td>\n",
       "      <td>0</td>\n",
       "      <td>2</td>\n",
       "    </tr>\n",
       "    <tr>\n",
       "      <th>3</th>\n",
       "      <td>221264</td>\n",
       "      <td>BUS</td>\n",
       "      <td>C-172</td>\n",
       "      <td>1.0</td>\n",
       "      <td>2003-07-08</td>\n",
       "      <td>Day</td>\n",
       "      <td>UNKN</td>\n",
       "      <td>110.0</td>\n",
       "      <td>NaN</td>\n",
       "      <td>En Route</td>\n",
       "      <td>D</td>\n",
       "      <td>Some Cloud</td>\n",
       "      <td>NaN</td>\n",
       "      <td>NaN</td>\n",
       "      <td>2.0</td>\n",
       "      <td>0</td>\n",
       "      <td>2</td>\n",
       "    </tr>\n",
       "    <tr>\n",
       "      <th>4</th>\n",
       "      <td>251781</td>\n",
       "      <td>BUS</td>\n",
       "      <td>PA-44 SEMINOLE</td>\n",
       "      <td>2.0</td>\n",
       "      <td>2007-10-23</td>\n",
       "      <td>Night</td>\n",
       "      <td>UNKN</td>\n",
       "      <td>150.0</td>\n",
       "      <td>NaN</td>\n",
       "      <td>En Route</td>\n",
       "      <td>D</td>\n",
       "      <td>No Cloud</td>\n",
       "      <td>NaN</td>\n",
       "      <td>NaN</td>\n",
       "      <td>2.0</td>\n",
       "      <td>0</td>\n",
       "      <td>2</td>\n",
       "    </tr>\n",
       "    <tr>\n",
       "      <th>...</th>\n",
       "      <td>...</td>\n",
       "      <td>...</td>\n",
       "      <td>...</td>\n",
       "      <td>...</td>\n",
       "      <td>...</td>\n",
       "      <td>...</td>\n",
       "      <td>...</td>\n",
       "      <td>...</td>\n",
       "      <td>...</td>\n",
       "      <td>...</td>\n",
       "      <td>...</td>\n",
       "      <td>...</td>\n",
       "      <td>...</td>\n",
       "      <td>...</td>\n",
       "      <td>...</td>\n",
       "      <td>...</td>\n",
       "      <td>...</td>\n",
       "    </tr>\n",
       "    <tr>\n",
       "      <th>157522</th>\n",
       "      <td>358804</td>\n",
       "      <td>UNK</td>\n",
       "      <td>UNKNOWN</td>\n",
       "      <td>NaN</td>\n",
       "      <td>2015-03-30</td>\n",
       "      <td>NaN</td>\n",
       "      <td>KUES</td>\n",
       "      <td>NaN</td>\n",
       "      <td>0.0</td>\n",
       "      <td>NaN</td>\n",
       "      <td>NaN</td>\n",
       "      <td>NaN</td>\n",
       "      <td>NaN</td>\n",
       "      <td>NaN</td>\n",
       "      <td>NaN</td>\n",
       "      <td>0</td>\n",
       "      <td>0</td>\n",
       "    </tr>\n",
       "    <tr>\n",
       "      <th>157523</th>\n",
       "      <td>358805</td>\n",
       "      <td>UNK</td>\n",
       "      <td>UNKNOWN</td>\n",
       "      <td>NaN</td>\n",
       "      <td>2015-03-31</td>\n",
       "      <td>NaN</td>\n",
       "      <td>KCMA</td>\n",
       "      <td>NaN</td>\n",
       "      <td>0.0</td>\n",
       "      <td>NaN</td>\n",
       "      <td>NaN</td>\n",
       "      <td>NaN</td>\n",
       "      <td>NaN</td>\n",
       "      <td>NaN</td>\n",
       "      <td>NaN</td>\n",
       "      <td>0</td>\n",
       "      <td>0</td>\n",
       "    </tr>\n",
       "    <tr>\n",
       "      <th>157524</th>\n",
       "      <td>358806</td>\n",
       "      <td>UNK</td>\n",
       "      <td>UNKNOWN</td>\n",
       "      <td>NaN</td>\n",
       "      <td>2015-03-31</td>\n",
       "      <td>NaN</td>\n",
       "      <td>KMCI</td>\n",
       "      <td>NaN</td>\n",
       "      <td>0.0</td>\n",
       "      <td>NaN</td>\n",
       "      <td>NaN</td>\n",
       "      <td>NaN</td>\n",
       "      <td>NaN</td>\n",
       "      <td>NaN</td>\n",
       "      <td>NaN</td>\n",
       "      <td>0</td>\n",
       "      <td>0</td>\n",
       "    </tr>\n",
       "    <tr>\n",
       "      <th>157525</th>\n",
       "      <td>358807</td>\n",
       "      <td>UNK</td>\n",
       "      <td>UNKNOWN</td>\n",
       "      <td>NaN</td>\n",
       "      <td>2015-03-31</td>\n",
       "      <td>NaN</td>\n",
       "      <td>KMFE</td>\n",
       "      <td>NaN</td>\n",
       "      <td>0.0</td>\n",
       "      <td>NaN</td>\n",
       "      <td>NaN</td>\n",
       "      <td>NaN</td>\n",
       "      <td>NaN</td>\n",
       "      <td>NaN</td>\n",
       "      <td>NaN</td>\n",
       "      <td>0</td>\n",
       "      <td>0</td>\n",
       "    </tr>\n",
       "    <tr>\n",
       "      <th>157526</th>\n",
       "      <td>358808</td>\n",
       "      <td>UNK</td>\n",
       "      <td>UNKNOWN</td>\n",
       "      <td>NaN</td>\n",
       "      <td>2015-03-31</td>\n",
       "      <td>NaN</td>\n",
       "      <td>KMIV</td>\n",
       "      <td>NaN</td>\n",
       "      <td>0.0</td>\n",
       "      <td>NaN</td>\n",
       "      <td>NaN</td>\n",
       "      <td>NaN</td>\n",
       "      <td>NaN</td>\n",
       "      <td>NaN</td>\n",
       "      <td>NaN</td>\n",
       "      <td>0</td>\n",
       "      <td>0</td>\n",
       "    </tr>\n",
       "  </tbody>\n",
       "</table>\n",
       "<p>157527 rows × 17 columns</p>\n",
       "</div>"
      ],
      "text/plain": [
       "        INDEX_NR OPID           ATYPE  AC_MASS INCIDENT_DATE TIME_OF_DAY  \\\n",
       "0         260720  PHM   SIKORSKY S-76      2.0    2009-01-04         Day   \n",
       "1         260583  BUS        CITATION      2.0    2008-03-04         Day   \n",
       "2         128423  PVT    PA-23 APACHE      1.0    1998-03-04         Day   \n",
       "3         221264  BUS           C-172      1.0    2003-07-08         Day   \n",
       "4         251781  BUS  PA-44 SEMINOLE      2.0    2007-10-23       Night   \n",
       "...          ...  ...             ...      ...           ...         ...   \n",
       "157522    358804  UNK         UNKNOWN      NaN    2015-03-30         NaN   \n",
       "157523    358805  UNK         UNKNOWN      NaN    2015-03-31         NaN   \n",
       "157524    358806  UNK         UNKNOWN      NaN    2015-03-31         NaN   \n",
       "157525    358807  UNK         UNKNOWN      NaN    2015-03-31         NaN   \n",
       "157526    358808  UNK         UNKNOWN      NaN    2015-03-31         NaN   \n",
       "\n",
       "       AIRPORT_ID  SPEED  DISTANCE PHASE_OF_FLT DAMAGE         SKY PRECIP  \\\n",
       "0            UNKN  135.0       NaN     En Route      D  Some Cloud    NaN   \n",
       "1            KPWA    NaN       4.0        Climb      D    No Cloud    NaN   \n",
       "2            UNKN  146.0       NaN     En Route      D    No Cloud    NaN   \n",
       "3            UNKN  110.0       NaN     En Route      D  Some Cloud    NaN   \n",
       "4            UNKN  150.0       NaN     En Route      D    No Cloud    NaN   \n",
       "...           ...    ...       ...          ...    ...         ...    ...   \n",
       "157522       KUES    NaN       0.0          NaN    NaN         NaN    NaN   \n",
       "157523       KCMA    NaN       0.0          NaN    NaN         NaN    NaN   \n",
       "157524       KMCI    NaN       0.0          NaN    NaN         NaN    NaN   \n",
       "157525       KMFE    NaN       0.0          NaN    NaN         NaN    NaN   \n",
       "157526       KMIV    NaN       0.0          NaN    NaN         NaN    NaN   \n",
       "\n",
       "        NR_INJURIES  NR_FATALITIES  NR_INJURIES_0  NR_FATALITIES_0  \n",
       "0               1.0            8.0              1                8  \n",
       "1               NaN            5.0              0                5  \n",
       "2               NaN            2.0              0                2  \n",
       "3               NaN            2.0              0                2  \n",
       "4               NaN            2.0              0                2  \n",
       "...             ...            ...            ...              ...  \n",
       "157522          NaN            NaN              0                0  \n",
       "157523          NaN            NaN              0                0  \n",
       "157524          NaN            NaN              0                0  \n",
       "157525          NaN            NaN              0                0  \n",
       "157526          NaN            NaN              0                0  \n",
       "\n",
       "[157527 rows x 17 columns]"
      ]
     },
     "execution_count": 2,
     "metadata": {},
     "output_type": "execute_result"
    },
    {
     "data": {
      "text/plain": [
       "INDEX_NR             int64\n",
       "OPID                object\n",
       "ATYPE               object\n",
       "AC_MASS            float64\n",
       "INCIDENT_DATE       object\n",
       "TIME_OF_DAY         object\n",
       "AIRPORT_ID          object\n",
       "SPEED              float64\n",
       "DISTANCE           float64\n",
       "PHASE_OF_FLT        object\n",
       "DAMAGE              object\n",
       "SKY                 object\n",
       "PRECIP              object\n",
       "NR_INJURIES        float64\n",
       "NR_FATALITIES      float64\n",
       "NR_INJURIES_0        int64\n",
       "NR_FATALITIES_0      int64\n",
       "dtype: object"
      ]
     },
     "execution_count": 2,
     "metadata": {},
     "output_type": "execute_result"
    },
    {
     "data": {
      "text/html": [
       "<div>\n",
       "<style scoped>\n",
       "    .dataframe tbody tr th:only-of-type {\n",
       "        vertical-align: middle;\n",
       "    }\n",
       "\n",
       "    .dataframe tbody tr th {\n",
       "        vertical-align: top;\n",
       "    }\n",
       "\n",
       "    .dataframe thead th {\n",
       "        text-align: right;\n",
       "    }\n",
       "</style>\n",
       "<table border=\"1\" class=\"dataframe\">\n",
       "  <thead>\n",
       "    <tr style=\"text-align: right;\">\n",
       "      <th></th>\n",
       "      <th>INDEX_NR</th>\n",
       "      <th>AC_MASS</th>\n",
       "      <th>SPEED</th>\n",
       "      <th>DISTANCE</th>\n",
       "      <th>NR_INJURIES</th>\n",
       "      <th>NR_FATALITIES</th>\n",
       "      <th>NR_INJURIES_0</th>\n",
       "      <th>NR_FATALITIES_0</th>\n",
       "    </tr>\n",
       "  </thead>\n",
       "  <tbody>\n",
       "    <tr>\n",
       "      <th>count</th>\n",
       "      <td>157527.000000</td>\n",
       "      <td>119586.000000</td>\n",
       "      <td>63387.000000</td>\n",
       "      <td>90694.000000</td>\n",
       "      <td>226.000000</td>\n",
       "      <td>12.000000</td>\n",
       "      <td>157527.000000</td>\n",
       "      <td>157527.000000</td>\n",
       "    </tr>\n",
       "    <tr>\n",
       "      <th>mean</th>\n",
       "      <td>246417.848185</td>\n",
       "      <td>3.517360</td>\n",
       "      <td>141.638680</td>\n",
       "      <td>0.658376</td>\n",
       "      <td>1.318584</td>\n",
       "      <td>2.166667</td>\n",
       "      <td>0.001892</td>\n",
       "      <td>0.000165</td>\n",
       "    </tr>\n",
       "    <tr>\n",
       "      <th>std</th>\n",
       "      <td>78440.809372</td>\n",
       "      <td>0.873351</td>\n",
       "      <td>46.019708</td>\n",
       "      <td>3.307637</td>\n",
       "      <td>0.813940</td>\n",
       "      <td>2.167249</td>\n",
       "      <td>0.058627</td>\n",
       "      <td>0.026183</td>\n",
       "    </tr>\n",
       "    <tr>\n",
       "      <th>min</th>\n",
       "      <td>100000.000000</td>\n",
       "      <td>1.000000</td>\n",
       "      <td>0.000000</td>\n",
       "      <td>0.000000</td>\n",
       "      <td>1.000000</td>\n",
       "      <td>1.000000</td>\n",
       "      <td>0.000000</td>\n",
       "      <td>0.000000</td>\n",
       "    </tr>\n",
       "    <tr>\n",
       "      <th>25%</th>\n",
       "      <td>209260.500000</td>\n",
       "      <td>3.000000</td>\n",
       "      <td>120.000000</td>\n",
       "      <td>0.000000</td>\n",
       "      <td>1.000000</td>\n",
       "      <td>1.000000</td>\n",
       "      <td>0.000000</td>\n",
       "      <td>0.000000</td>\n",
       "    </tr>\n",
       "    <tr>\n",
       "      <th>50%</th>\n",
       "      <td>248788.000000</td>\n",
       "      <td>4.000000</td>\n",
       "      <td>136.000000</td>\n",
       "      <td>0.000000</td>\n",
       "      <td>1.000000</td>\n",
       "      <td>1.000000</td>\n",
       "      <td>0.000000</td>\n",
       "      <td>0.000000</td>\n",
       "    </tr>\n",
       "    <tr>\n",
       "      <th>75%</th>\n",
       "      <td>318105.500000</td>\n",
       "      <td>4.000000</td>\n",
       "      <td>160.000000</td>\n",
       "      <td>0.000000</td>\n",
       "      <td>1.000000</td>\n",
       "      <td>2.000000</td>\n",
       "      <td>0.000000</td>\n",
       "      <td>0.000000</td>\n",
       "    </tr>\n",
       "    <tr>\n",
       "      <th>max</th>\n",
       "      <td>358808.000000</td>\n",
       "      <td>5.000000</td>\n",
       "      <td>380.000000</td>\n",
       "      <td>150.000000</td>\n",
       "      <td>7.000000</td>\n",
       "      <td>8.000000</td>\n",
       "      <td>7.000000</td>\n",
       "      <td>8.000000</td>\n",
       "    </tr>\n",
       "  </tbody>\n",
       "</table>\n",
       "</div>"
      ],
      "text/plain": [
       "            INDEX_NR        AC_MASS         SPEED      DISTANCE  NR_INJURIES  \\\n",
       "count  157527.000000  119586.000000  63387.000000  90694.000000   226.000000   \n",
       "mean   246417.848185       3.517360    141.638680      0.658376     1.318584   \n",
       "std     78440.809372       0.873351     46.019708      3.307637     0.813940   \n",
       "min    100000.000000       1.000000      0.000000      0.000000     1.000000   \n",
       "25%    209260.500000       3.000000    120.000000      0.000000     1.000000   \n",
       "50%    248788.000000       4.000000    136.000000      0.000000     1.000000   \n",
       "75%    318105.500000       4.000000    160.000000      0.000000     1.000000   \n",
       "max    358808.000000       5.000000    380.000000    150.000000     7.000000   \n",
       "\n",
       "       NR_FATALITIES  NR_INJURIES_0  NR_FATALITIES_0  \n",
       "count      12.000000  157527.000000    157527.000000  \n",
       "mean        2.166667       0.001892         0.000165  \n",
       "std         2.167249       0.058627         0.026183  \n",
       "min         1.000000       0.000000         0.000000  \n",
       "25%         1.000000       0.000000         0.000000  \n",
       "50%         1.000000       0.000000         0.000000  \n",
       "75%         2.000000       0.000000         0.000000  \n",
       "max         8.000000       7.000000         8.000000  "
      ]
     },
     "execution_count": 2,
     "metadata": {},
     "output_type": "execute_result"
    }
   ],
   "source": [
    "import pandas\n",
    "df = pandas.read_csv(\"StrikeReportsPartial.csv\")\n",
    "df\n",
    "df.dtypes\n",
    "df.describe()"
   ]
  },
  {
   "cell_type": "markdown",
   "id": "efe24e89-bfe4-479c-803f-e732ce1f1a57",
   "metadata": {},
   "source": [
    "## Missing Data\n",
    "\n",
    "Summary statistics don't help us learn much about missing data. Missing data is often an important consideration because it is not missing at random. \n",
    "\n",
    "The `.isna()` method tells us if a value is missing. Run the following command and compare it to the initial preview of the data above:"
   ]
  },
  {
   "cell_type": "code",
   "execution_count": 3,
   "id": "5dc01c88-b0cd-4d7e-b554-dc1c417fce09",
   "metadata": {},
   "outputs": [
    {
     "data": {
      "text/html": [
       "<div>\n",
       "<style scoped>\n",
       "    .dataframe tbody tr th:only-of-type {\n",
       "        vertical-align: middle;\n",
       "    }\n",
       "\n",
       "    .dataframe tbody tr th {\n",
       "        vertical-align: top;\n",
       "    }\n",
       "\n",
       "    .dataframe thead th {\n",
       "        text-align: right;\n",
       "    }\n",
       "</style>\n",
       "<table border=\"1\" class=\"dataframe\">\n",
       "  <thead>\n",
       "    <tr style=\"text-align: right;\">\n",
       "      <th></th>\n",
       "      <th>INDEX_NR</th>\n",
       "      <th>OPID</th>\n",
       "      <th>ATYPE</th>\n",
       "      <th>AC_MASS</th>\n",
       "      <th>INCIDENT_DATE</th>\n",
       "      <th>TIME_OF_DAY</th>\n",
       "      <th>AIRPORT_ID</th>\n",
       "      <th>SPEED</th>\n",
       "      <th>DISTANCE</th>\n",
       "      <th>PHASE_OF_FLT</th>\n",
       "      <th>DAMAGE</th>\n",
       "      <th>SKY</th>\n",
       "      <th>PRECIP</th>\n",
       "      <th>NR_INJURIES</th>\n",
       "      <th>NR_FATALITIES</th>\n",
       "      <th>NR_INJURIES_0</th>\n",
       "      <th>NR_FATALITIES_0</th>\n",
       "    </tr>\n",
       "  </thead>\n",
       "  <tbody>\n",
       "    <tr>\n",
       "      <th>0</th>\n",
       "      <td>False</td>\n",
       "      <td>False</td>\n",
       "      <td>False</td>\n",
       "      <td>False</td>\n",
       "      <td>False</td>\n",
       "      <td>False</td>\n",
       "      <td>False</td>\n",
       "      <td>False</td>\n",
       "      <td>True</td>\n",
       "      <td>False</td>\n",
       "      <td>False</td>\n",
       "      <td>False</td>\n",
       "      <td>True</td>\n",
       "      <td>False</td>\n",
       "      <td>False</td>\n",
       "      <td>False</td>\n",
       "      <td>False</td>\n",
       "    </tr>\n",
       "    <tr>\n",
       "      <th>1</th>\n",
       "      <td>False</td>\n",
       "      <td>False</td>\n",
       "      <td>False</td>\n",
       "      <td>False</td>\n",
       "      <td>False</td>\n",
       "      <td>False</td>\n",
       "      <td>False</td>\n",
       "      <td>True</td>\n",
       "      <td>False</td>\n",
       "      <td>False</td>\n",
       "      <td>False</td>\n",
       "      <td>False</td>\n",
       "      <td>True</td>\n",
       "      <td>True</td>\n",
       "      <td>False</td>\n",
       "      <td>False</td>\n",
       "      <td>False</td>\n",
       "    </tr>\n",
       "    <tr>\n",
       "      <th>2</th>\n",
       "      <td>False</td>\n",
       "      <td>False</td>\n",
       "      <td>False</td>\n",
       "      <td>False</td>\n",
       "      <td>False</td>\n",
       "      <td>False</td>\n",
       "      <td>False</td>\n",
       "      <td>False</td>\n",
       "      <td>True</td>\n",
       "      <td>False</td>\n",
       "      <td>False</td>\n",
       "      <td>False</td>\n",
       "      <td>True</td>\n",
       "      <td>True</td>\n",
       "      <td>False</td>\n",
       "      <td>False</td>\n",
       "      <td>False</td>\n",
       "    </tr>\n",
       "    <tr>\n",
       "      <th>3</th>\n",
       "      <td>False</td>\n",
       "      <td>False</td>\n",
       "      <td>False</td>\n",
       "      <td>False</td>\n",
       "      <td>False</td>\n",
       "      <td>False</td>\n",
       "      <td>False</td>\n",
       "      <td>False</td>\n",
       "      <td>True</td>\n",
       "      <td>False</td>\n",
       "      <td>False</td>\n",
       "      <td>False</td>\n",
       "      <td>True</td>\n",
       "      <td>True</td>\n",
       "      <td>False</td>\n",
       "      <td>False</td>\n",
       "      <td>False</td>\n",
       "    </tr>\n",
       "    <tr>\n",
       "      <th>4</th>\n",
       "      <td>False</td>\n",
       "      <td>False</td>\n",
       "      <td>False</td>\n",
       "      <td>False</td>\n",
       "      <td>False</td>\n",
       "      <td>False</td>\n",
       "      <td>False</td>\n",
       "      <td>False</td>\n",
       "      <td>True</td>\n",
       "      <td>False</td>\n",
       "      <td>False</td>\n",
       "      <td>False</td>\n",
       "      <td>True</td>\n",
       "      <td>True</td>\n",
       "      <td>False</td>\n",
       "      <td>False</td>\n",
       "      <td>False</td>\n",
       "    </tr>\n",
       "    <tr>\n",
       "      <th>...</th>\n",
       "      <td>...</td>\n",
       "      <td>...</td>\n",
       "      <td>...</td>\n",
       "      <td>...</td>\n",
       "      <td>...</td>\n",
       "      <td>...</td>\n",
       "      <td>...</td>\n",
       "      <td>...</td>\n",
       "      <td>...</td>\n",
       "      <td>...</td>\n",
       "      <td>...</td>\n",
       "      <td>...</td>\n",
       "      <td>...</td>\n",
       "      <td>...</td>\n",
       "      <td>...</td>\n",
       "      <td>...</td>\n",
       "      <td>...</td>\n",
       "    </tr>\n",
       "    <tr>\n",
       "      <th>157522</th>\n",
       "      <td>False</td>\n",
       "      <td>False</td>\n",
       "      <td>False</td>\n",
       "      <td>True</td>\n",
       "      <td>False</td>\n",
       "      <td>True</td>\n",
       "      <td>False</td>\n",
       "      <td>True</td>\n",
       "      <td>False</td>\n",
       "      <td>True</td>\n",
       "      <td>True</td>\n",
       "      <td>True</td>\n",
       "      <td>True</td>\n",
       "      <td>True</td>\n",
       "      <td>True</td>\n",
       "      <td>False</td>\n",
       "      <td>False</td>\n",
       "    </tr>\n",
       "    <tr>\n",
       "      <th>157523</th>\n",
       "      <td>False</td>\n",
       "      <td>False</td>\n",
       "      <td>False</td>\n",
       "      <td>True</td>\n",
       "      <td>False</td>\n",
       "      <td>True</td>\n",
       "      <td>False</td>\n",
       "      <td>True</td>\n",
       "      <td>False</td>\n",
       "      <td>True</td>\n",
       "      <td>True</td>\n",
       "      <td>True</td>\n",
       "      <td>True</td>\n",
       "      <td>True</td>\n",
       "      <td>True</td>\n",
       "      <td>False</td>\n",
       "      <td>False</td>\n",
       "    </tr>\n",
       "    <tr>\n",
       "      <th>157524</th>\n",
       "      <td>False</td>\n",
       "      <td>False</td>\n",
       "      <td>False</td>\n",
       "      <td>True</td>\n",
       "      <td>False</td>\n",
       "      <td>True</td>\n",
       "      <td>False</td>\n",
       "      <td>True</td>\n",
       "      <td>False</td>\n",
       "      <td>True</td>\n",
       "      <td>True</td>\n",
       "      <td>True</td>\n",
       "      <td>True</td>\n",
       "      <td>True</td>\n",
       "      <td>True</td>\n",
       "      <td>False</td>\n",
       "      <td>False</td>\n",
       "    </tr>\n",
       "    <tr>\n",
       "      <th>157525</th>\n",
       "      <td>False</td>\n",
       "      <td>False</td>\n",
       "      <td>False</td>\n",
       "      <td>True</td>\n",
       "      <td>False</td>\n",
       "      <td>True</td>\n",
       "      <td>False</td>\n",
       "      <td>True</td>\n",
       "      <td>False</td>\n",
       "      <td>True</td>\n",
       "      <td>True</td>\n",
       "      <td>True</td>\n",
       "      <td>True</td>\n",
       "      <td>True</td>\n",
       "      <td>True</td>\n",
       "      <td>False</td>\n",
       "      <td>False</td>\n",
       "    </tr>\n",
       "    <tr>\n",
       "      <th>157526</th>\n",
       "      <td>False</td>\n",
       "      <td>False</td>\n",
       "      <td>False</td>\n",
       "      <td>True</td>\n",
       "      <td>False</td>\n",
       "      <td>True</td>\n",
       "      <td>False</td>\n",
       "      <td>True</td>\n",
       "      <td>False</td>\n",
       "      <td>True</td>\n",
       "      <td>True</td>\n",
       "      <td>True</td>\n",
       "      <td>True</td>\n",
       "      <td>True</td>\n",
       "      <td>True</td>\n",
       "      <td>False</td>\n",
       "      <td>False</td>\n",
       "    </tr>\n",
       "  </tbody>\n",
       "</table>\n",
       "<p>157527 rows × 17 columns</p>\n",
       "</div>"
      ],
      "text/plain": [
       "        INDEX_NR   OPID  ATYPE  AC_MASS  INCIDENT_DATE  TIME_OF_DAY  \\\n",
       "0          False  False  False    False          False        False   \n",
       "1          False  False  False    False          False        False   \n",
       "2          False  False  False    False          False        False   \n",
       "3          False  False  False    False          False        False   \n",
       "4          False  False  False    False          False        False   \n",
       "...          ...    ...    ...      ...            ...          ...   \n",
       "157522     False  False  False     True          False         True   \n",
       "157523     False  False  False     True          False         True   \n",
       "157524     False  False  False     True          False         True   \n",
       "157525     False  False  False     True          False         True   \n",
       "157526     False  False  False     True          False         True   \n",
       "\n",
       "        AIRPORT_ID  SPEED  DISTANCE  PHASE_OF_FLT  DAMAGE    SKY  PRECIP  \\\n",
       "0            False  False      True         False   False  False    True   \n",
       "1            False   True     False         False   False  False    True   \n",
       "2            False  False      True         False   False  False    True   \n",
       "3            False  False      True         False   False  False    True   \n",
       "4            False  False      True         False   False  False    True   \n",
       "...            ...    ...       ...           ...     ...    ...     ...   \n",
       "157522       False   True     False          True    True   True    True   \n",
       "157523       False   True     False          True    True   True    True   \n",
       "157524       False   True     False          True    True   True    True   \n",
       "157525       False   True     False          True    True   True    True   \n",
       "157526       False   True     False          True    True   True    True   \n",
       "\n",
       "        NR_INJURIES  NR_FATALITIES  NR_INJURIES_0  NR_FATALITIES_0  \n",
       "0             False          False          False            False  \n",
       "1              True          False          False            False  \n",
       "2              True          False          False            False  \n",
       "3              True          False          False            False  \n",
       "4              True          False          False            False  \n",
       "...             ...            ...            ...              ...  \n",
       "157522         True           True          False            False  \n",
       "157523         True           True          False            False  \n",
       "157524         True           True          False            False  \n",
       "157525         True           True          False            False  \n",
       "157526         True           True          False            False  \n",
       "\n",
       "[157527 rows x 17 columns]"
      ]
     },
     "execution_count": 3,
     "metadata": {},
     "output_type": "execute_result"
    }
   ],
   "source": [
    "df.isna()"
   ]
  },
  {
   "cell_type": "markdown",
   "id": "10e7dc94-51b8-463c-a56b-40631b9705f0",
   "metadata": {},
   "source": [
    "There are 157,527 rows of data in this file, so it's not very helpful to see the `True` and `False` for every column and every row. Instead, let's summarize with the `.sum()` method:"
   ]
  },
  {
   "cell_type": "code",
   "execution_count": 4,
   "id": "8d3f3777-2326-4602-b33f-e2bc1a64cc05",
   "metadata": {},
   "outputs": [
    {
     "data": {
      "text/plain": [
       "INDEX_NR                0\n",
       "OPID                    0\n",
       "ATYPE                   0\n",
       "AC_MASS             37941\n",
       "INCIDENT_DATE           0\n",
       "TIME_OF_DAY         58690\n",
       "AIRPORT_ID              0\n",
       "SPEED               94140\n",
       "DISTANCE            66833\n",
       "PHASE_OF_FLT        51766\n",
       "DAMAGE              44859\n",
       "SKY                 71916\n",
       "PRECIP             150027\n",
       "NR_INJURIES        157301\n",
       "NR_FATALITIES      157515\n",
       "NR_INJURIES_0           0\n",
       "NR_FATALITIES_0         0\n",
       "dtype: int64"
      ]
     },
     "execution_count": 4,
     "metadata": {},
     "output_type": "execute_result"
    }
   ],
   "source": [
    "df.isna().sum()"
   ]
  },
  {
   "cell_type": "markdown",
   "id": "40249620-2b95-4d9a-82dc-c3db8e1558f8",
   "metadata": {},
   "source": [
    "*In python, the value of `True` is treated as a `1` for the purposes of the `.sum()` method.*\n",
    "\n",
    "Do we have a missing values problem? What do you think is going on here?\n",
    "\n",
    "### `pandas` formatting side note\n",
    "\n",
    "Take a moment to look at the last line of code you ran (`df.isna().sum()`). We're going to be using this type of formatting alot where you list the name of a DataFrame and then list commands separated by `.`'s. Can you guess what is going on here?\n",
    "\n",
    "Here's another example of this...before running the command, what do you think this will do?"
   ]
  },
  {
   "cell_type": "code",
   "execution_count": 5,
   "id": "9a0c40c4-f302-46c0-95d9-7469bfe9950b",
   "metadata": {},
   "outputs": [
    {
     "data": {
      "text/plain": [
       "58690"
      ]
     },
     "execution_count": 5,
     "metadata": {},
     "output_type": "execute_result"
    }
   ],
   "source": [
    "df[\"TIME_OF_DAY\"].isna().sum()"
   ]
  },
  {
   "cell_type": "markdown",
   "id": "42611f06-4dab-40b4-a0f5-9712b5e7fea8",
   "metadata": {},
   "source": [
    "## Accessing Individual Columns\n",
    "\n",
    "Up to now, we've worked with all columns. But often we want to focus on a specific column. Python uses brackets to restrict a DataFrame to one (or more) columns. For example:"
   ]
  },
  {
   "cell_type": "code",
   "execution_count": 6,
   "id": "a225eefa-a6f0-46ca-8f88-bd8ecf5555ad",
   "metadata": {},
   "outputs": [
    {
     "data": {
      "text/plain": [
       "0           Day\n",
       "1           Day\n",
       "2           Day\n",
       "3           Day\n",
       "4         Night\n",
       "          ...  \n",
       "157522      NaN\n",
       "157523      NaN\n",
       "157524      NaN\n",
       "157525      NaN\n",
       "157526      NaN\n",
       "Name: TIME_OF_DAY, Length: 157527, dtype: object"
      ]
     },
     "execution_count": 6,
     "metadata": {},
     "output_type": "execute_result"
    }
   ],
   "source": [
    "df[\"TIME_OF_DAY\"]"
   ]
  },
  {
   "cell_type": "markdown",
   "id": "f8171d37-e1ff-4d43-9e15-faaa5ec71dfd",
   "metadata": {},
   "source": [
    "Now you try...access the column, DAMAGE:"
   ]
  },
  {
   "cell_type": "code",
   "execution_count": 7,
   "id": "2c532411-7b17-4353-b506-254f149bee04",
   "metadata": {},
   "outputs": [
    {
     "data": {
      "text/plain": [
       "0           D\n",
       "1           D\n",
       "2           D\n",
       "3           D\n",
       "4           D\n",
       "         ... \n",
       "157522    NaN\n",
       "157523    NaN\n",
       "157524    NaN\n",
       "157525    NaN\n",
       "157526    NaN\n",
       "Name: DAMAGE, Length: 157527, dtype: object"
      ]
     },
     "execution_count": 7,
     "metadata": {},
     "output_type": "execute_result"
    }
   ],
   "source": [
    "df[\"DAMAGE\"]"
   ]
  },
  {
   "cell_type": "markdown",
   "id": "d3da0dc0-ed7d-4107-a675-18990634e50b",
   "metadata": {},
   "source": [
    "What if you want more than a single column? Just put a list inside the brackets. In python, a list is also enclosed in brackets, with the elements separated by commas. So, if you wanted both TIME_OF_DAY and DAMAGE, you'd run this command:"
   ]
  },
  {
   "cell_type": "code",
   "execution_count": 8,
   "id": "4022174f-7d5b-4e2e-8cd6-2e3581a67876",
   "metadata": {},
   "outputs": [
    {
     "data": {
      "text/html": [
       "<div>\n",
       "<style scoped>\n",
       "    .dataframe tbody tr th:only-of-type {\n",
       "        vertical-align: middle;\n",
       "    }\n",
       "\n",
       "    .dataframe tbody tr th {\n",
       "        vertical-align: top;\n",
       "    }\n",
       "\n",
       "    .dataframe thead th {\n",
       "        text-align: right;\n",
       "    }\n",
       "</style>\n",
       "<table border=\"1\" class=\"dataframe\">\n",
       "  <thead>\n",
       "    <tr style=\"text-align: right;\">\n",
       "      <th></th>\n",
       "      <th>TIME_OF_DAY</th>\n",
       "      <th>DAMAGE</th>\n",
       "    </tr>\n",
       "  </thead>\n",
       "  <tbody>\n",
       "    <tr>\n",
       "      <th>0</th>\n",
       "      <td>Day</td>\n",
       "      <td>D</td>\n",
       "    </tr>\n",
       "    <tr>\n",
       "      <th>1</th>\n",
       "      <td>Day</td>\n",
       "      <td>D</td>\n",
       "    </tr>\n",
       "    <tr>\n",
       "      <th>2</th>\n",
       "      <td>Day</td>\n",
       "      <td>D</td>\n",
       "    </tr>\n",
       "    <tr>\n",
       "      <th>3</th>\n",
       "      <td>Day</td>\n",
       "      <td>D</td>\n",
       "    </tr>\n",
       "    <tr>\n",
       "      <th>4</th>\n",
       "      <td>Night</td>\n",
       "      <td>D</td>\n",
       "    </tr>\n",
       "    <tr>\n",
       "      <th>...</th>\n",
       "      <td>...</td>\n",
       "      <td>...</td>\n",
       "    </tr>\n",
       "    <tr>\n",
       "      <th>157522</th>\n",
       "      <td>NaN</td>\n",
       "      <td>NaN</td>\n",
       "    </tr>\n",
       "    <tr>\n",
       "      <th>157523</th>\n",
       "      <td>NaN</td>\n",
       "      <td>NaN</td>\n",
       "    </tr>\n",
       "    <tr>\n",
       "      <th>157524</th>\n",
       "      <td>NaN</td>\n",
       "      <td>NaN</td>\n",
       "    </tr>\n",
       "    <tr>\n",
       "      <th>157525</th>\n",
       "      <td>NaN</td>\n",
       "      <td>NaN</td>\n",
       "    </tr>\n",
       "    <tr>\n",
       "      <th>157526</th>\n",
       "      <td>NaN</td>\n",
       "      <td>NaN</td>\n",
       "    </tr>\n",
       "  </tbody>\n",
       "</table>\n",
       "<p>157527 rows × 2 columns</p>\n",
       "</div>"
      ],
      "text/plain": [
       "       TIME_OF_DAY DAMAGE\n",
       "0              Day      D\n",
       "1              Day      D\n",
       "2              Day      D\n",
       "3              Day      D\n",
       "4            Night      D\n",
       "...            ...    ...\n",
       "157522         NaN    NaN\n",
       "157523         NaN    NaN\n",
       "157524         NaN    NaN\n",
       "157525         NaN    NaN\n",
       "157526         NaN    NaN\n",
       "\n",
       "[157527 rows x 2 columns]"
      ]
     },
     "execution_count": 8,
     "metadata": {},
     "output_type": "execute_result"
    }
   ],
   "source": [
    "df[[\"TIME_OF_DAY\", \"DAMAGE\"]]"
   ]
  },
  {
   "cell_type": "markdown",
   "id": "fc6122b3-96c4-451d-9a96-a23d96b1bd18",
   "metadata": {},
   "source": [
    "Display the ATYPE and AC_MASS columns:"
   ]
  },
  {
   "cell_type": "code",
   "execution_count": 9,
   "id": "4d83bccb-7e77-43b8-912a-da84e9b4b9e9",
   "metadata": {},
   "outputs": [
    {
     "data": {
      "text/html": [
       "<div>\n",
       "<style scoped>\n",
       "    .dataframe tbody tr th:only-of-type {\n",
       "        vertical-align: middle;\n",
       "    }\n",
       "\n",
       "    .dataframe tbody tr th {\n",
       "        vertical-align: top;\n",
       "    }\n",
       "\n",
       "    .dataframe thead th {\n",
       "        text-align: right;\n",
       "    }\n",
       "</style>\n",
       "<table border=\"1\" class=\"dataframe\">\n",
       "  <thead>\n",
       "    <tr style=\"text-align: right;\">\n",
       "      <th></th>\n",
       "      <th>ATYPE</th>\n",
       "      <th>AC_MASS</th>\n",
       "    </tr>\n",
       "  </thead>\n",
       "  <tbody>\n",
       "    <tr>\n",
       "      <th>0</th>\n",
       "      <td>SIKORSKY S-76</td>\n",
       "      <td>2.0</td>\n",
       "    </tr>\n",
       "    <tr>\n",
       "      <th>1</th>\n",
       "      <td>CITATION</td>\n",
       "      <td>2.0</td>\n",
       "    </tr>\n",
       "    <tr>\n",
       "      <th>2</th>\n",
       "      <td>PA-23 APACHE</td>\n",
       "      <td>1.0</td>\n",
       "    </tr>\n",
       "    <tr>\n",
       "      <th>3</th>\n",
       "      <td>C-172</td>\n",
       "      <td>1.0</td>\n",
       "    </tr>\n",
       "    <tr>\n",
       "      <th>4</th>\n",
       "      <td>PA-44 SEMINOLE</td>\n",
       "      <td>2.0</td>\n",
       "    </tr>\n",
       "    <tr>\n",
       "      <th>...</th>\n",
       "      <td>...</td>\n",
       "      <td>...</td>\n",
       "    </tr>\n",
       "    <tr>\n",
       "      <th>157522</th>\n",
       "      <td>UNKNOWN</td>\n",
       "      <td>NaN</td>\n",
       "    </tr>\n",
       "    <tr>\n",
       "      <th>157523</th>\n",
       "      <td>UNKNOWN</td>\n",
       "      <td>NaN</td>\n",
       "    </tr>\n",
       "    <tr>\n",
       "      <th>157524</th>\n",
       "      <td>UNKNOWN</td>\n",
       "      <td>NaN</td>\n",
       "    </tr>\n",
       "    <tr>\n",
       "      <th>157525</th>\n",
       "      <td>UNKNOWN</td>\n",
       "      <td>NaN</td>\n",
       "    </tr>\n",
       "    <tr>\n",
       "      <th>157526</th>\n",
       "      <td>UNKNOWN</td>\n",
       "      <td>NaN</td>\n",
       "    </tr>\n",
       "  </tbody>\n",
       "</table>\n",
       "<p>157527 rows × 2 columns</p>\n",
       "</div>"
      ],
      "text/plain": [
       "                 ATYPE  AC_MASS\n",
       "0        SIKORSKY S-76      2.0\n",
       "1             CITATION      2.0\n",
       "2         PA-23 APACHE      1.0\n",
       "3                C-172      1.0\n",
       "4       PA-44 SEMINOLE      2.0\n",
       "...                ...      ...\n",
       "157522         UNKNOWN      NaN\n",
       "157523         UNKNOWN      NaN\n",
       "157524         UNKNOWN      NaN\n",
       "157525         UNKNOWN      NaN\n",
       "157526         UNKNOWN      NaN\n",
       "\n",
       "[157527 rows x 2 columns]"
      ]
     },
     "execution_count": 9,
     "metadata": {},
     "output_type": "execute_result"
    }
   ],
   "source": [
    "df[[\"ATYPE\", \"AC_MASS\"]]"
   ]
  },
  {
   "cell_type": "markdown",
   "id": "74fdd952-9e5d-4da5-ac7a-52c99c29db28",
   "metadata": {},
   "source": [
    "Now, with those same 2 columns, sum up the number of missing values:"
   ]
  },
  {
   "cell_type": "code",
   "execution_count": 10,
   "id": "b87e3c7d-e3d0-4da7-9d11-d1a842e95c46",
   "metadata": {},
   "outputs": [
    {
     "data": {
      "text/plain": [
       "ATYPE          0\n",
       "AC_MASS    37941\n",
       "dtype: int64"
      ]
     },
     "execution_count": 10,
     "metadata": {},
     "output_type": "execute_result"
    }
   ],
   "source": [
    "df[[\"ATYPE\", \"AC_MASS\"]].isna().sum()"
   ]
  },
  {
   "cell_type": "markdown",
   "id": "ebc030ca-5c1e-4d98-a37b-ad9749cfc81c",
   "metadata": {},
   "source": [
    "The NR_INJURIES column contains numeric data. Answer the following 3 questions:\n",
    "* How many missing values are there in the NR_INJURIES column?\n",
    "* Add up the total number of injuries in this DataFrame\n",
    "* Get the average number (or `mean()`) of injuries in this DataFrame"
   ]
  },
  {
   "cell_type": "code",
   "execution_count": 11,
   "id": "b92673fa-cf9c-4a41-bd24-f6947d912891",
   "metadata": {},
   "outputs": [
    {
     "data": {
      "text/plain": [
       "157301"
      ]
     },
     "execution_count": 11,
     "metadata": {},
     "output_type": "execute_result"
    },
    {
     "data": {
      "text/plain": [
       "298.0"
      ]
     },
     "execution_count": 11,
     "metadata": {},
     "output_type": "execute_result"
    },
    {
     "data": {
      "text/plain": [
       "1.319"
      ]
     },
     "execution_count": 11,
     "metadata": {},
     "output_type": "execute_result"
    }
   ],
   "source": [
    "df[\"NR_INJURIES\"].isna().sum()\n",
    "df[\"NR_INJURIES\"].sum()\n",
    "df[\"NR_INJURIES\"].mean().round(3)"
   ]
  },
  {
   "cell_type": "markdown",
   "id": "a527bc83-6dd0-4173-82f2-87719497a661",
   "metadata": {},
   "source": [
    "The 3 most common descriptive statistics methods for numeric data in pandas are: `.sum()`, `.mean()`, and `.std()`."
   ]
  },
  {
   "cell_type": "markdown",
   "id": "d0a68e3a-2395-427f-a16c-ff3ad7ab8939",
   "metadata": {},
   "source": [
    "## Summarizing Categorical Data: Frequency Tables\n",
    "\n",
    "The `.value_counts()` method lets you know how frequently values appear in a column."
   ]
  },
  {
   "cell_type": "code",
   "execution_count": 12,
   "id": "02534916-d8fb-422d-bb63-aa50c8afc455",
   "metadata": {},
   "outputs": [
    {
     "data": {
      "text/plain": [
       "TIME_OF_DAY\n",
       "Day      60963\n",
       "Night    30164\n",
       "Dusk      4355\n",
       "Dawn      3353\n",
       "NIGHT        1\n",
       "DAY          1\n",
       "Name: count, dtype: int64"
      ]
     },
     "execution_count": 12,
     "metadata": {},
     "output_type": "execute_result"
    }
   ],
   "source": [
    "df[\"TIME_OF_DAY\"].value_counts()"
   ]
  },
  {
   "cell_type": "markdown",
   "id": "251ab59c-6251-41a3-bc02-f23ca77fdbca",
   "metadata": {},
   "source": [
    "By the way, what data quality issue can we see based on this frequency table?\n",
    "\n",
    "Now, build a frequency table for the DAMAGE column:"
   ]
  },
  {
   "cell_type": "code",
   "execution_count": 13,
   "id": "571f1c1f-644c-4d6e-87c8-c9f6e3f4b2ef",
   "metadata": {},
   "outputs": [
    {
     "data": {
      "text/plain": [
       "DAMAGE\n",
       "N     98523\n",
       "M      7553\n",
       "S      3775\n",
       "M?     2751\n",
       "D        66\n",
       "Name: count, dtype: int64"
      ]
     },
     "execution_count": 13,
     "metadata": {},
     "output_type": "execute_result"
    }
   ],
   "source": [
    "df[\"DAMAGE\"].value_counts()"
   ]
  },
  {
   "cell_type": "markdown",
   "id": "a8226d21-c8ba-4c46-aa94-2380cac398f4",
   "metadata": {},
   "source": [
    "If you want the percentage/proportion instead of the count, add the `normalize=True` parameter to `.value_counts()`. Try it with the DAMAGE column:"
   ]
  },
  {
   "cell_type": "code",
   "execution_count": 14,
   "id": "5d631dde-49ea-4411-b1e1-c5f84535278e",
   "metadata": {},
   "outputs": [
    {
     "data": {
      "text/plain": [
       "DAMAGE\n",
       "N     0.874454\n",
       "M     0.067038\n",
       "S     0.033506\n",
       "M?    0.024417\n",
       "D     0.000586\n",
       "Name: proportion, dtype: float64"
      ]
     },
     "execution_count": 14,
     "metadata": {},
     "output_type": "execute_result"
    }
   ],
   "source": [
    "df[\"DAMAGE\"].value_counts(normalize = True)"
   ]
  },
  {
   "cell_type": "markdown",
   "id": "1d5d23e1-dd58-4353-85bd-d701d3f71a34",
   "metadata": {},
   "source": [
    "By default, python ignores missing values (`.value_counts()` has a parameter `dropna` which defaults to `True`). If you'd like the percentage relative to all the rows, including those with missing values, set `dropna` equal to `False`:"
   ]
  },
  {
   "cell_type": "code",
   "execution_count": 15,
   "id": "406f2683-ca00-45cb-ac86-4cd20e1662f0",
   "metadata": {},
   "outputs": [
    {
     "data": {
      "text/plain": [
       "DAMAGE\n",
       "N      0.625436\n",
       "NaN    0.284770\n",
       "M      0.047947\n",
       "S      0.023964\n",
       "M?     0.017464\n",
       "D      0.000419\n",
       "Name: proportion, dtype: float64"
      ]
     },
     "execution_count": 15,
     "metadata": {},
     "output_type": "execute_result"
    }
   ],
   "source": [
    "df[\"DAMAGE\"].value_counts(normalize = True, dropna = False)"
   ]
  },
  {
   "cell_type": "markdown",
   "id": "40048376-1fcb-44e2-8b3c-a7de48ae3c94",
   "metadata": {},
   "source": [
    "Now, use the `round()` function on the previous command to limit the decimals to 2 places:"
   ]
  },
  {
   "cell_type": "code",
   "execution_count": 16,
   "id": "b51f5daa-9f2f-454b-b38a-cd3f60151e26",
   "metadata": {},
   "outputs": [
    {
     "data": {
      "text/plain": [
       "DAMAGE\n",
       "N      0.63\n",
       "NaN    0.28\n",
       "M      0.05\n",
       "S      0.02\n",
       "M?     0.02\n",
       "D      0.00\n",
       "Name: proportion, dtype: float64"
      ]
     },
     "execution_count": 16,
     "metadata": {},
     "output_type": "execute_result"
    }
   ],
   "source": [
    "df[\"DAMAGE\"].value_counts(normalize = True, dropna = False).round(2)"
   ]
  },
  {
   "cell_type": "markdown",
   "id": "74be4621-5fd0-4b25-a592-d58a70bd7b1c",
   "metadata": {},
   "source": [
    "Now, you try...\n",
    "* What % of incidents happened at Dusk (from TIME_OF_DAY)...*ignoring* missing rows?\n",
    "* What % of incidents happened at Dusk (from TIME_OF_DAY)...*including* missing rows?\n",
    "\n",
    "Use the `round()` function to round all numbers to 3 decimals."
   ]
  },
  {
   "cell_type": "code",
   "execution_count": null,
   "id": "45f6488e-e156-4076-a048-693fc0e8ef70",
   "metadata": {},
   "outputs": [],
   "source": []
  },
  {
   "cell_type": "markdown",
   "id": "7e97507e-9cad-4f96-a0fa-bb833817746b",
   "metadata": {},
   "source": [
    "## Contingency Tables\n",
    "\n",
    "Frequency tables show us counts/percentages for a single column. Contingency tables show the counts/percentages when combining 2 columns. For this, we can use the `crosstab()` function from the `pandas` module:"
   ]
  },
  {
   "cell_type": "code",
   "execution_count": null,
   "id": "6dd81016-cc35-4bc1-b40e-f067ca9f4dea",
   "metadata": {},
   "outputs": [],
   "source": [
    "pandas.crosstab(df[\"DAMAGE\"], df[\"TIME_OF_DAY\"])"
   ]
  },
  {
   "cell_type": "markdown",
   "id": "7b3b85da-ea81-4e41-8214-d239b7652034",
   "metadata": {},
   "source": [
    "Notice this is a *function* and not a *method*, so the name of the function comes first and then the first 2 parameters are the names of the columns you want to include.\n",
    "\n",
    "If you want to also display row and column totals, include the `margins=True` parameter:"
   ]
  },
  {
   "cell_type": "code",
   "execution_count": null,
   "id": "fa2c6d01-0d84-4f60-a632-2fa59c977f36",
   "metadata": {},
   "outputs": [],
   "source": [
    "pandas.crosstab(df[\"DAMAGE\"], df[\"TIME_OF_DAY\"], margins = True)"
   ]
  },
  {
   "cell_type": "markdown",
   "id": "0c585e13-9fac-412b-8d7b-efb31162a35f",
   "metadata": {},
   "source": [
    "Create a contingency table for TIME_OF_DAY and PRECIP, including row and column totals:"
   ]
  },
  {
   "cell_type": "code",
   "execution_count": null,
   "id": "16f60b02-714c-4163-a069-48f6d298e08d",
   "metadata": {},
   "outputs": [],
   "source": []
  },
  {
   "cell_type": "markdown",
   "id": "e7a1cb4d-8bca-464b-8886-917823fdc8ae",
   "metadata": {},
   "source": [
    "You can also get percentages/proportions using the `normalize` parameter. For the `crosstab()` function, the `normalize` parameter has 3 possible values: `\"all\"`, `\"index\"`, and `\"columns\"`. \n",
    "\n",
    "The `\"all\"` setting gives percentages out of the total:"
   ]
  },
  {
   "cell_type": "code",
   "execution_count": null,
   "id": "a1e112e4-a141-4177-bde2-43db6918b863",
   "metadata": {},
   "outputs": [],
   "source": [
    "pandas.crosstab(df[\"DAMAGE\"], df[\"TIME_OF_DAY\"], margins = True, normalize = \"all\")"
   ]
  },
  {
   "cell_type": "markdown",
   "id": "eb2afc8d-8a3c-458c-9e0b-e7973efcbae8",
   "metadata": {},
   "source": [
    "However, usually it's more helpful to %'s by row or column.\n",
    "\n",
    "The `\"index\"` setting gives row %'s and the `\"columns\"` setting gives column %'s:"
   ]
  },
  {
   "cell_type": "code",
   "execution_count": null,
   "id": "e44d5b9c-ca3c-42e8-839b-552a353f4272",
   "metadata": {},
   "outputs": [],
   "source": [
    "pandas.crosstab(df[\"DAMAGE\"], df[\"TIME_OF_DAY\"], margins = True, normalize = \"index\")\n",
    "pandas.crosstab(df[\"DAMAGE\"], df[\"TIME_OF_DAY\"], margins = True, normalize = \"columns\")"
   ]
  },
  {
   "cell_type": "markdown",
   "id": "edaf9e8f-eb9d-4d49-a8a9-f540b1b83301",
   "metadata": {},
   "source": [
    "# Basic Visualization\n",
    "\n",
    "`pandas` supports visualizations, but requires an additional module, `matplotlib`. This module has already been installed on Jupyter Hub and will automatically load whenever you `import pandas`.\n",
    "\n",
    "## Summarizing Numeric Data\n",
    "\n",
    "To summarize numeric data visually, ***histograms*** and ***box plots*** are usually your first best choices.\n",
    "\n",
    "### Histograms\n",
    "\n",
    "Histograms give a good sense of how your data is distributed. Run the following command...what can you tell about the number of injuries in this DataFrame?"
   ]
  },
  {
   "cell_type": "code",
   "execution_count": null,
   "id": "4ecff5a0-7375-4406-814e-61b51e2d338c",
   "metadata": {},
   "outputs": [],
   "source": [
    "df[\"NR_INJURIES\"].plot.hist()"
   ]
  },
  {
   "cell_type": "markdown",
   "id": "874868b3-a7d3-4b8f-9e94-3a7a6a452d13",
   "metadata": {},
   "source": [
    "Now create the same histogram, but this time using the NR_INJURIES_0 column. (This is a column I included to replace missing values with a 0.)\n",
    "\n",
    "Comparing both histograms, what story does this tell?"
   ]
  },
  {
   "cell_type": "code",
   "execution_count": null,
   "id": "e10322ad-e697-451e-b7ff-096abdc59fef",
   "metadata": {},
   "outputs": [],
   "source": [
    "df[\"NR_INJURIES_0\"].plot.hist()"
   ]
  },
  {
   "cell_type": "markdown",
   "id": "bc982055-420b-4162-9f56-79e0f0d136c0",
   "metadata": {},
   "source": [
    "### Box Plots\n",
    "\n",
    "The box plot command also has a similar structure to histograms:"
   ]
  },
  {
   "cell_type": "code",
   "execution_count": null,
   "id": "8c7fc62d-2f0a-410e-a310-3a956f4f1637",
   "metadata": {},
   "outputs": [],
   "source": [
    "df[\"SPEED\"].plot.box()"
   ]
  },
  {
   "cell_type": "markdown",
   "id": "9a04b803-89e2-43d2-b314-4c5242bb6a8d",
   "metadata": {},
   "source": [
    "The green line represents the median (or 50%) point, with the bottom and top of the box representing the 25% and 75% points respectively. In other words, 50% of the data is within the range shown by the box. The points shown above and below the \"whiskers\" are considered outliers."
   ]
  },
  {
   "cell_type": "markdown",
   "id": "c3f3d634-d5f5-4d14-bc08-f912247fc6ee",
   "metadata": {},
   "source": [
    "## Summarizing Categorical Data\n",
    "\n",
    "To summarize categorical data visually, you should use a ***bar chart***. Although bar charts look similar to histograms, they summarize data differently. A histogram takes continuous numerical data and counts the frequency of observations within a certain range (or bin). Bar charts, on the other hand, count up the number of observations in each category. You should use bar charts *only* for categorical data and histograms for numeric data.\n",
    "\n",
    "### Bar Charts\n",
    "\n",
    "Bar charts are good for visually summarizing categorical data. Run the following command to see what time of day most incidents occur on:"
   ]
  },
  {
   "cell_type": "code",
   "execution_count": null,
   "id": "2f500cf5-5ee0-43ae-adac-30648d2073cc",
   "metadata": {},
   "outputs": [],
   "source": [
    "df[\"TIME_OF_DAY\"].plot.bar()"
   ]
  },
  {
   "cell_type": "markdown",
   "id": "e71e51a6-a65a-4ce5-90e7-73cf34e3735a",
   "metadata": {},
   "source": [
    "What happened? The `.plot.bar()` method needs summary data to visualize. Can you figure out how to add to the code above to get the bar chart to display?"
   ]
  },
  {
   "cell_type": "code",
   "execution_count": null,
   "id": "412d60a3-8c06-4b06-b3b1-82d576b787f0",
   "metadata": {},
   "outputs": [],
   "source": [
    "df[\"TIME_OF_DAY\"].value_counts().plot.bar()"
   ]
  },
  {
   "cell_type": "markdown",
   "id": "1cfafbbd-6d8b-4167-af8f-e498ef17a3a6",
   "metadata": {},
   "source": [
    "Just like with frequency tables, so too with bar charts...you can also set the y-axis to show percentages instead of counts:"
   ]
  },
  {
   "cell_type": "code",
   "execution_count": null,
   "id": "758f227a-030c-4c64-a61c-c4b71b1cdf96",
   "metadata": {},
   "outputs": [],
   "source": [
    "df[\"TIME_OF_DAY\"].value_counts(normalize = True).plot.bar()"
   ]
  },
  {
   "cell_type": "markdown",
   "id": "3dccd879-70c2-4332-ad64-a804bb7f63ca",
   "metadata": {},
   "source": [
    "## Visualizing Relationships\n",
    "\n",
    "To visually depict the relationship between 2 numeric variables, you can use a ***scatter plot***. Scatter plots should only be used with numeric data. If you'd like to compare data across multiple categories, you can use bar charts or side-by-side box plots.\n",
    "\n",
    "### 2 Numeric Variables: Scatter Plots\n",
    "\n",
    "Because scatterplots show the relationship between 2 numeric variables, the structure of the command is slightly different than the basic plots above:"
   ]
  },
  {
   "cell_type": "code",
   "execution_count": null,
   "id": "c4f4a5f8-ce7b-4868-a218-82c0501f33ca",
   "metadata": {},
   "outputs": [],
   "source": [
    "df.plot.scatter(x = \"AC_MASS\", y = \"NR_INJURIES\")"
   ]
  },
  {
   "cell_type": "markdown",
   "id": "ac4b7952-7741-4acb-8fe9-dc9194e80c17",
   "metadata": {},
   "source": [
    "### 1 Numeric & 1 Categorical Variable: Side-by-Side Box Plots\n",
    "\n",
    "If you want to see how the distribution of a numeric variable varies across categories, you can use side-by-side box plots.\n",
    "\n",
    "The command for a side-by-side box plot is different than for the basic box plot, but similar in structure to scatter plots:"
   ]
  },
  {
   "cell_type": "code",
   "execution_count": null,
   "id": "c0c08851-52ac-4d94-88c7-61cdd60735c6",
   "metadata": {},
   "outputs": [],
   "source": [
    "df.boxplot(column = \"SPEED\", by = \"DAMAGE\")"
   ]
  },
  {
   "cell_type": "markdown",
   "id": "5aa51a17-df1c-4e24-a690-114f05c4776b",
   "metadata": {},
   "source": [
    "The `column` parameter contains the numeric variable you are plotting and the `by` parameter contains a categorical variable you'd like to split the box plots by.\n",
    "\n",
    "### 2 Categorical Variables: Stacked Bar Charts\n",
    "\n",
    "To visualize the relationship between 2 categorical variables, you can use a stacked bar chart.\n",
    "\n",
    "Remember that a bar chart for 1 variable is just a visualization of a frequency table (using `.value_counts()`). A bar chart for 2 variables is a visualization of a contingency table, created with the `crosstab()` function:"
   ]
  },
  {
   "cell_type": "code",
   "execution_count": null,
   "id": "abb05730-6c00-4cde-959c-ae782da002b3",
   "metadata": {},
   "outputs": [],
   "source": [
    "pandas.crosstab(df[\"DAMAGE\"], df[\"TIME_OF_DAY\"]).plot.bar(stacked = True)"
   ]
  },
  {
   "cell_type": "markdown",
   "id": "9c4e5325-47b4-4219-b19b-7b4a28d782c6",
   "metadata": {},
   "source": [
    "As you can see, when there is an imbalance in data across categories, simply looking at the counts can make comparison difficult. One way to fix this is to add `normalize = \"index\"` to your `crosstab()` command to depict percentages instead:"
   ]
  },
  {
   "cell_type": "code",
   "execution_count": null,
   "id": "eccd8e50-c296-4beb-a7c1-e53908321181",
   "metadata": {},
   "outputs": [],
   "source": [
    "pandas.crosstab(df[\"DAMAGE\"], df[\"TIME_OF_DAY\"], normalize = \"index\").plot.bar(stacked = True)"
   ]
  },
  {
   "cell_type": "markdown",
   "id": "9cab7618-f504-4302-af4e-33b6dbd1d2ce",
   "metadata": {},
   "source": [
    "## Visualization Practice\n",
    "\n",
    "Create the following charts:"
   ]
  },
  {
   "cell_type": "code",
   "execution_count": null,
   "id": "1b001fcf-a97c-41c0-846a-799622e47773",
   "metadata": {},
   "outputs": [],
   "source": [
    "# Make a histogram looking at the number of fatalities (NR_FATALITIES)\n"
   ]
  },
  {
   "cell_type": "code",
   "execution_count": null,
   "id": "efa7c400-2643-4c87-a4fe-99d8c906de42",
   "metadata": {},
   "outputs": [],
   "source": [
    "# Make a percentage bar chart by DAMAGE type\n"
   ]
  },
  {
   "cell_type": "code",
   "execution_count": null,
   "id": "7ad5a48c-edf4-441a-96fc-a33c59d28f61",
   "metadata": {},
   "outputs": [],
   "source": [
    "# Make a scatterplot showing the relationship between SPEED and DISTANCE\n"
   ]
  },
  {
   "cell_type": "code",
   "execution_count": null,
   "id": "18642fb9-0c1a-4406-9df2-46b11ed89c54",
   "metadata": {},
   "outputs": [],
   "source": [
    "# Make a box plot looking at DISTANCE broken out by TIME_OF_DAY\n"
   ]
  },
  {
   "cell_type": "markdown",
   "id": "4e25024c-c3e6-41b0-85a8-1c5916dc882f",
   "metadata": {},
   "source": [
    "## Data Profiling Summary\n",
    "\n",
    "Typically, when first reading in your data, it's a good idea to do the following to profile the data:\n",
    "* Look at the shape of your DataFrame\n",
    "* Preview some rows\n",
    "* Get a sense of the data types for each column\n",
    "* Use `.isna().sum()` to see how many missing values there are\n",
    "* Use `.describe()` to summarize the numeric variables\n",
    "* Use `.value_counts()` and/or `crosstab()` to summarize the categorical variables\n",
    "* Create charts to quickly visualize your data\n",
    "   * Histograms and Box Plots are good for visualizing numeric data\n",
    "   * Bar Charts are good for visualizing categorical data\n",
    "   * Scatterplots are good for comparing 2 numeric variables to identify relationships"
   ]
  }
 ],
 "metadata": {
  "kernelspec": {
   "display_name": "Python 3 (ipykernel)",
   "language": "python",
   "name": "python3"
  },
  "language_info": {
   "codemirror_mode": {
    "name": "ipython",
    "version": 3
   },
   "file_extension": ".py",
   "mimetype": "text/x-python",
   "name": "python",
   "nbconvert_exporter": "python",
   "pygments_lexer": "ipython3",
   "version": "3.10.10"
  }
 },
 "nbformat": 4,
 "nbformat_minor": 5
}
